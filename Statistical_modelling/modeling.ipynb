{
 "cells": [
  {
   "cell_type": "code",
   "execution_count": null,
   "id": "82b8ac32",
   "metadata": {},
   "outputs": [],
   "source": [
    "import pandas as pd\n",
    "import matplotlib.pyplot as plt\n",
    "import seaborn as sns\n",
    "from sklearn.preprocessing import StandardScaler\n",
    "from sklearn.linear_model import LinearRegression\n",
    "from sklearn.model_selection import train_test_split\n",
    "from sklearn.metrics import mean_squared_error,r2_score"
   ]
  },
  {
   "cell_type": "markdown",
   "id": "69cc09ba",
   "metadata": {},
   "source": [
    "###  1. Loading and Exploring the Dataset"
   ]
  },
  {
   "cell_type": "code",
   "execution_count": null,
   "id": "7a4148cb",
   "metadata": {},
   "outputs": [],
   "source": [
    "df=pd.read_csv(\"raw_data\\musicdata.csv\")\n",
    "df.head()"
   ]
  },
  {
   "cell_type": "code",
   "execution_count": null,
   "id": "22383267",
   "metadata": {},
   "outputs": [],
   "source": [
    "df.info()"
   ]
  },
  {
   "cell_type": "code",
   "execution_count": null,
   "id": "87c54fa9",
   "metadata": {},
   "outputs": [],
   "source": [
    "df.describe()"
   ]
  },
  {
   "cell_type": "code",
   "execution_count": null,
   "id": "4a88249e",
   "metadata": {},
   "outputs": [],
   "source": [
    "df.shape"
   ]
  },
  {
   "cell_type": "code",
   "execution_count": null,
   "id": "2a11456c",
   "metadata": {},
   "outputs": [],
   "source": [
    "#droping irreleveant column i.e Unnamed\n",
    "\n",
    "df=df.drop(columns=[\"Unnamed: 0\"])\n",
    "df.head()"
   ]
  },
  {
   "cell_type": "code",
   "execution_count": null,
   "id": "d82bbca9",
   "metadata": {},
   "outputs": [],
   "source": [
    "num_cols=df.select_dtypes(include=[\"int64\",'float64']).columns\n",
    "num_cols"
   ]
  },
  {
   "cell_type": "code",
   "execution_count": null,
   "id": "dcb86f46",
   "metadata": {},
   "outputs": [],
   "source": [
    "cat_cols=df.select_dtypes(include=[\"object\"]).columns\n",
    "cat_cols"
   ]
  },
  {
   "cell_type": "markdown",
   "id": "1ba2f1f5",
   "metadata": {},
   "source": [
    "### 2. Handle Missing Values"
   ]
  },
  {
   "cell_type": "code",
   "execution_count": null,
   "id": "1e08bd42",
   "metadata": {},
   "outputs": [],
   "source": [
    "df.isnull().sum()"
   ]
  },
  {
   "cell_type": "code",
   "execution_count": null,
   "id": "d287809b",
   "metadata": {},
   "outputs": [],
   "source": [
    "df[[\"Track Name\",\"Artists\",\"Album Name\"]]=df[[\"Track Name\",\"Artists\",\"Album Name\"]].fillna(\"Unkonwn\")"
   ]
  },
  {
   "cell_type": "code",
   "execution_count": null,
   "id": "022e0d3d",
   "metadata": {},
   "outputs": [],
   "source": [
    "df.isnull().sum()[df.isnull().sum()>0]"
   ]
  },
  {
   "cell_type": "markdown",
   "id": "961c8540",
   "metadata": {},
   "source": [
    "### 3. Exploratory Data Analysis (EDA)"
   ]
  },
  {
   "cell_type": "code",
   "execution_count": null,
   "id": "9e85962d",
   "metadata": {},
   "outputs": [],
   "source": [
    "#calculating correlation for df \n",
    "correlation_matrix = df.corr()\n",
    "\n",
    "# Create a heatmap of the correlation matrix\n",
    "plt.figure(figsize=(10, 8))\n",
    "sns.heatmap(correlation_matrix, cmap='coolwarm', linewidths=0.5)\n",
    "plt.title(\"Correlation Matrix\")\n",
    "plt.show()\n"
   ]
  },
  {
   "cell_type": "markdown",
   "id": "dd372bd3",
   "metadata": {},
   "source": [
    "### Scatter Plot"
   ]
  },
  {
   "cell_type": "code",
   "execution_count": null,
   "id": "57f9d5ab",
   "metadata": {},
   "outputs": [],
   "source": [
    "# scatter plots for each numerical columns vs Popularity\n",
    "\n",
    "num_col=['Danceability', 'Energy', 'Loudness', 'Valence','Duration (ms)','Key', 'Mode', 'Speechiness', 'Acousticness', \n",
    "         'Instrumentalness','Liveness','Tempo']\n",
    "\n",
    "plt.figure(figsize=(16, 16))\n",
    "for i, num in enumerate(num_col, 1):\n",
    "    plt.subplot(4, 3, i)\n",
    "    sns.scatterplot(x=df[num], y=df['Popularity'])\n",
    "    plt.title(f'{num} vs Popularity')\n",
    "    plt.xlabel(num)\n",
    "    plt.ylabel('Popularity')\n",
    "\n",
    "plt.tight_layout()\n",
    "plt.show()\n"
   ]
  },
  {
   "cell_type": "markdown",
   "id": "7484d95c",
   "metadata": {},
   "source": [
    "### Histogram"
   ]
  },
  {
   "cell_type": "code",
   "execution_count": null,
   "id": "1228344b",
   "metadata": {},
   "outputs": [],
   "source": [
    "# Histograms for Popularity \n",
    "\n",
    "sns.histplot(df[\"Popularity\"],bins=30)\n",
    "plt.title('Distribution of Popularity Scores')\n",
    "plt.xlabel('Popularity')\n",
    "plt.ylabel('Frequency')\n",
    "plt.show()"
   ]
  },
  {
   "cell_type": "code",
   "execution_count": null,
   "id": "22e92afb",
   "metadata": {},
   "outputs": [],
   "source": [
    "#'Explicit' is a column indicating whether the song is explicit (1) or not (0)\n",
    "\n",
    "sns.boxplot(x=df['Explicit'], y=df['Popularity'])\n",
    "plt.title('Popularity vs Explicit Content')\n",
    "plt.xlabel('Explicit Content (0 = False, 1 = True)')\n",
    "plt.ylabel('Popularity')\n",
    "plt.show()\n"
   ]
  },
  {
   "cell_type": "markdown",
   "id": "05a85ff8",
   "metadata": {},
   "source": [
    "### 4. Prepare the Data for Modeling"
   ]
  },
  {
   "cell_type": "code",
   "execution_count": null,
   "id": "fbf958f5",
   "metadata": {},
   "outputs": [],
   "source": [
    "# Convert Explicit (Boolean) into an integer (0 or 1).\n",
    "\n",
    "df[\"Explicit\"] = df[\"Explicit\"].astype(int)"
   ]
  },
  {
   "cell_type": "code",
   "execution_count": null,
   "id": "fa193f6f",
   "metadata": {},
   "outputs": [],
   "source": [
    "# Define key features for modeling\n",
    "features = ['Danceability', 'Energy', 'Loudness', 'Valence', 'Acousticness', 'Instrumentalness', 'Liveness', 'Speechiness', \n",
    "            'Tempo', 'Duration (ms)', 'Key', 'Mode', 'Explicit']\n",
    "\n",
    "# Target variable\n",
    "target = 'Popularity'"
   ]
  },
  {
   "cell_type": "code",
   "execution_count": null,
   "id": "69452d93",
   "metadata": {},
   "outputs": [],
   "source": [
    "# Initialize StandardScaler\n",
    "scaler = StandardScaler()\n",
    "df_scaled = scaler.fit_transform(df[features])\n",
    "\n",
    "# Convert back to a DataFrame\n",
    "df_scaled = pd.DataFrame(df_scaled, columns=features)\n",
    "df[features] = df_scaled"
   ]
  },
  {
   "cell_type": "code",
   "execution_count": null,
   "id": "df2294ff",
   "metadata": {},
   "outputs": [],
   "source": [
    "df.head()"
   ]
  },
  {
   "cell_type": "markdown",
   "id": "ebc4afcb",
   "metadata": {},
   "source": [
    "### 5. Split the Data for Training and Testing"
   ]
  },
  {
   "cell_type": "code",
   "execution_count": null,
   "id": "064ee769",
   "metadata": {},
   "outputs": [],
   "source": [
    "X=df[features]\n",
    "y=df[\"Popularity\"]\n",
    "\n",
    "# Split the data into training and testing sets\n",
    "x_train,x_test,y_train,y_test=train_test_split(X,y,test_size=0.2,random_state=42)"
   ]
  },
  {
   "cell_type": "code",
   "execution_count": null,
   "id": "35a745af",
   "metadata": {},
   "outputs": [],
   "source": [
    "x_train.head()"
   ]
  },
  {
   "cell_type": "code",
   "execution_count": null,
   "id": "eb15d011",
   "metadata": {},
   "outputs": [],
   "source": [
    "print(len(x_train),len(y_train))"
   ]
  },
  {
   "cell_type": "code",
   "execution_count": null,
   "id": "0f356ec6",
   "metadata": {},
   "outputs": [],
   "source": [
    "print(len(x_test),len(y_test))"
   ]
  },
  {
   "cell_type": "markdown",
   "id": "1475b87c",
   "metadata": {},
   "source": [
    "### 6. Build a Predictive Model"
   ]
  },
  {
   "cell_type": "code",
   "execution_count": null,
   "id": "b3d646ca",
   "metadata": {},
   "outputs": [],
   "source": [
    "model=LinearRegression()"
   ]
  },
  {
   "cell_type": "code",
   "execution_count": null,
   "id": "8b49563b",
   "metadata": {},
   "outputs": [],
   "source": [
    "model.fit(x_train,y_train)"
   ]
  },
  {
   "cell_type": "code",
   "execution_count": null,
   "id": "4f0ea1c5",
   "metadata": {},
   "outputs": [],
   "source": [
    "y_pred=model.predict(x_test)"
   ]
  },
  {
   "cell_type": "code",
   "execution_count": null,
   "id": "e7c01b77",
   "metadata": {},
   "outputs": [],
   "source": [
    "y_pred"
   ]
  },
  {
   "cell_type": "markdown",
   "id": "3aef4661",
   "metadata": {},
   "source": [
    "### 7. Evaluate the Model"
   ]
  },
  {
   "cell_type": "code",
   "execution_count": null,
   "id": "4b64fd3a",
   "metadata": {},
   "outputs": [],
   "source": [
    "r2=r2_score(y_test,y_pred)\n",
    "mse=mean_squared_error(y_test,y_pred)"
   ]
  },
  {
   "cell_type": "code",
   "execution_count": null,
   "id": "cc4b2f9d",
   "metadata": {},
   "outputs": [],
   "source": [
    "print(\"R2 Score : \",r2)\n",
    "print(\"mean_squared_error : \",mse)"
   ]
  },
  {
   "cell_type": "code",
   "execution_count": null,
   "id": "164ad8fd",
   "metadata": {},
   "outputs": [],
   "source": [
    "# Get coefficients\n",
    "coefficients = model.coef_"
   ]
  },
  {
   "cell_type": "code",
   "execution_count": null,
   "id": "ee905472",
   "metadata": {},
   "outputs": [],
   "source": [
    "# Create a DataFrame for better visualization\n",
    "coef_df = pd.DataFrame({'Feature': features, 'Coefficient': coefficients})\n",
    "print(coef_df)"
   ]
  },
  {
   "cell_type": "markdown",
   "id": "d6b5a3c7",
   "metadata": {},
   "source": [
    "**As this model performs poorly, further improvements are needed.**"
   ]
  },
  {
   "cell_type": "markdown",
   "id": "d894dc12",
   "metadata": {},
   "source": [
    "### 8. Generate Insights and Recommendations"
   ]
  },
  {
   "cell_type": "markdown",
   "id": "aa67d6c0",
   "metadata": {},
   "source": [
    "**Key Insights on Track Popularity**\n",
    "- Danceability, energy, and loudness contribute significantly to popularity.\n",
    "- High instrumentalness tends to lower popularity.\n",
    "- Speechiness, tempo, and valence also impact popularity."
   ]
  },
  {
   "cell_type": "markdown",
   "id": "09860e2c",
   "metadata": {},
   "source": [
    "**How Artists or Producers Can optimize tracks for higher popularity** \n",
    "- Increase danceability and energy with rhythmic beats.\n",
    "- Ensure appropriate loudness levels in mastering.\n",
    "- Balance speechiness based on the track's style.\n",
    "- Reduce instrumental-only sections for broader appeal."
   ]
  },
  {
   "cell_type": "markdown",
   "id": "56823460",
   "metadata": {},
   "source": [
    "**Model Improvement Suggestions**\n",
    "- Use advanced models like Random Forest, XGBoost, or Neural Networks for better accuracy.\n",
    "- Improve feature selection and data preprocessing.\n",
    "- Optimize hyperparameters using GridSearchCV."
   ]
  }
 ],
 "metadata": {
  "kernelspec": {
   "display_name": "Python 3 (ipykernel)",
   "language": "python",
   "name": "python3"
  },
  "language_info": {
   "codemirror_mode": {
    "name": "ipython",
    "version": 3
   },
   "file_extension": ".py",
   "mimetype": "text/x-python",
   "name": "python",
   "nbconvert_exporter": "python",
   "pygments_lexer": "ipython3",
   "version": "3.11.4"
  }
 },
 "nbformat": 4,
 "nbformat_minor": 5
}
