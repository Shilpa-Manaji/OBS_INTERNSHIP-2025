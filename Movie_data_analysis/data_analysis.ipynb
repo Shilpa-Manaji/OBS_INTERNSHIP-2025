{
 "cells": [
  {
   "cell_type": "code",
   "execution_count": 1,
   "id": "ab5d0228",
   "metadata": {},
   "outputs": [],
   "source": [
    "import pandas as pd\n",
    "import numpy as np"
   ]
  },
  {
   "cell_type": "markdown",
   "id": "37191cb2",
   "metadata": {},
   "source": [
    "### Loading the Datasets"
   ]
  },
  {
   "cell_type": "code",
   "execution_count": 2,
   "id": "55aea74a",
   "metadata": {},
   "outputs": [
    {
     "data": {
      "text/html": [
       "<div>\n",
       "<style scoped>\n",
       "    .dataframe tbody tr th:only-of-type {\n",
       "        vertical-align: middle;\n",
       "    }\n",
       "\n",
       "    .dataframe tbody tr th {\n",
       "        vertical-align: top;\n",
       "    }\n",
       "\n",
       "    .dataframe thead th {\n",
       "        text-align: right;\n",
       "    }\n",
       "</style>\n",
       "<table border=\"1\" class=\"dataframe\">\n",
       "  <thead>\n",
       "    <tr style=\"text-align: right;\">\n",
       "      <th></th>\n",
       "      <th>movieId</th>\n",
       "      <th>imdbId</th>\n",
       "      <th>tmdbId</th>\n",
       "    </tr>\n",
       "  </thead>\n",
       "  <tbody>\n",
       "    <tr>\n",
       "      <th>0</th>\n",
       "      <td>1</td>\n",
       "      <td>114709</td>\n",
       "      <td>862.0</td>\n",
       "    </tr>\n",
       "    <tr>\n",
       "      <th>1</th>\n",
       "      <td>2</td>\n",
       "      <td>113497</td>\n",
       "      <td>8844.0</td>\n",
       "    </tr>\n",
       "    <tr>\n",
       "      <th>2</th>\n",
       "      <td>3</td>\n",
       "      <td>113228</td>\n",
       "      <td>15602.0</td>\n",
       "    </tr>\n",
       "    <tr>\n",
       "      <th>3</th>\n",
       "      <td>4</td>\n",
       "      <td>114885</td>\n",
       "      <td>31357.0</td>\n",
       "    </tr>\n",
       "    <tr>\n",
       "      <th>4</th>\n",
       "      <td>5</td>\n",
       "      <td>113041</td>\n",
       "      <td>11862.0</td>\n",
       "    </tr>\n",
       "  </tbody>\n",
       "</table>\n",
       "</div>"
      ],
      "text/plain": [
       "   movieId  imdbId   tmdbId\n",
       "0        1  114709    862.0\n",
       "1        2  113497   8844.0\n",
       "2        3  113228  15602.0\n",
       "3        4  114885  31357.0\n",
       "4        5  113041  11862.0"
      ]
     },
     "execution_count": 2,
     "metadata": {},
     "output_type": "execute_result"
    }
   ],
   "source": [
    "df_links=pd.read_csv('raw_data/links.csv')\n",
    "df_links.head()"
   ]
  },
  {
   "cell_type": "code",
   "execution_count": 3,
   "id": "84b3a03e",
   "metadata": {},
   "outputs": [
    {
     "data": {
      "text/html": [
       "<div>\n",
       "<style scoped>\n",
       "    .dataframe tbody tr th:only-of-type {\n",
       "        vertical-align: middle;\n",
       "    }\n",
       "\n",
       "    .dataframe tbody tr th {\n",
       "        vertical-align: top;\n",
       "    }\n",
       "\n",
       "    .dataframe thead th {\n",
       "        text-align: right;\n",
       "    }\n",
       "</style>\n",
       "<table border=\"1\" class=\"dataframe\">\n",
       "  <thead>\n",
       "    <tr style=\"text-align: right;\">\n",
       "      <th></th>\n",
       "      <th>movieId</th>\n",
       "      <th>title</th>\n",
       "      <th>genres</th>\n",
       "    </tr>\n",
       "  </thead>\n",
       "  <tbody>\n",
       "    <tr>\n",
       "      <th>0</th>\n",
       "      <td>1</td>\n",
       "      <td>Toy Story (1995)</td>\n",
       "      <td>Adventure|Animation|Children|Comedy|Fantasy</td>\n",
       "    </tr>\n",
       "    <tr>\n",
       "      <th>1</th>\n",
       "      <td>2</td>\n",
       "      <td>Jumanji (1995)</td>\n",
       "      <td>Adventure|Children|Fantasy</td>\n",
       "    </tr>\n",
       "    <tr>\n",
       "      <th>2</th>\n",
       "      <td>3</td>\n",
       "      <td>Grumpier Old Men (1995)</td>\n",
       "      <td>Comedy|Romance</td>\n",
       "    </tr>\n",
       "    <tr>\n",
       "      <th>3</th>\n",
       "      <td>4</td>\n",
       "      <td>Waiting to Exhale (1995)</td>\n",
       "      <td>Comedy|Drama|Romance</td>\n",
       "    </tr>\n",
       "    <tr>\n",
       "      <th>4</th>\n",
       "      <td>5</td>\n",
       "      <td>Father of the Bride Part II (1995)</td>\n",
       "      <td>Comedy</td>\n",
       "    </tr>\n",
       "  </tbody>\n",
       "</table>\n",
       "</div>"
      ],
      "text/plain": [
       "   movieId                               title  \\\n",
       "0        1                    Toy Story (1995)   \n",
       "1        2                      Jumanji (1995)   \n",
       "2        3             Grumpier Old Men (1995)   \n",
       "3        4            Waiting to Exhale (1995)   \n",
       "4        5  Father of the Bride Part II (1995)   \n",
       "\n",
       "                                        genres  \n",
       "0  Adventure|Animation|Children|Comedy|Fantasy  \n",
       "1                   Adventure|Children|Fantasy  \n",
       "2                               Comedy|Romance  \n",
       "3                         Comedy|Drama|Romance  \n",
       "4                                       Comedy  "
      ]
     },
     "execution_count": 3,
     "metadata": {},
     "output_type": "execute_result"
    }
   ],
   "source": [
    "df_movie=pd.read_csv('raw_data/movies.csv')\n",
    "df_movie.head()"
   ]
  },
  {
   "cell_type": "code",
   "execution_count": 4,
   "id": "dbcca523",
   "metadata": {},
   "outputs": [
    {
     "data": {
      "text/html": [
       "<div>\n",
       "<style scoped>\n",
       "    .dataframe tbody tr th:only-of-type {\n",
       "        vertical-align: middle;\n",
       "    }\n",
       "\n",
       "    .dataframe tbody tr th {\n",
       "        vertical-align: top;\n",
       "    }\n",
       "\n",
       "    .dataframe thead th {\n",
       "        text-align: right;\n",
       "    }\n",
       "</style>\n",
       "<table border=\"1\" class=\"dataframe\">\n",
       "  <thead>\n",
       "    <tr style=\"text-align: right;\">\n",
       "      <th></th>\n",
       "      <th>userId</th>\n",
       "      <th>movieId</th>\n",
       "      <th>rating</th>\n",
       "      <th>timestamp</th>\n",
       "    </tr>\n",
       "  </thead>\n",
       "  <tbody>\n",
       "    <tr>\n",
       "      <th>0</th>\n",
       "      <td>1</td>\n",
       "      <td>1</td>\n",
       "      <td>4.0</td>\n",
       "      <td>964982703</td>\n",
       "    </tr>\n",
       "    <tr>\n",
       "      <th>1</th>\n",
       "      <td>1</td>\n",
       "      <td>3</td>\n",
       "      <td>4.0</td>\n",
       "      <td>964981247</td>\n",
       "    </tr>\n",
       "    <tr>\n",
       "      <th>2</th>\n",
       "      <td>1</td>\n",
       "      <td>6</td>\n",
       "      <td>4.0</td>\n",
       "      <td>964982224</td>\n",
       "    </tr>\n",
       "    <tr>\n",
       "      <th>3</th>\n",
       "      <td>1</td>\n",
       "      <td>47</td>\n",
       "      <td>5.0</td>\n",
       "      <td>964983815</td>\n",
       "    </tr>\n",
       "    <tr>\n",
       "      <th>4</th>\n",
       "      <td>1</td>\n",
       "      <td>50</td>\n",
       "      <td>5.0</td>\n",
       "      <td>964982931</td>\n",
       "    </tr>\n",
       "  </tbody>\n",
       "</table>\n",
       "</div>"
      ],
      "text/plain": [
       "   userId  movieId  rating  timestamp\n",
       "0       1        1     4.0  964982703\n",
       "1       1        3     4.0  964981247\n",
       "2       1        6     4.0  964982224\n",
       "3       1       47     5.0  964983815\n",
       "4       1       50     5.0  964982931"
      ]
     },
     "execution_count": 4,
     "metadata": {},
     "output_type": "execute_result"
    }
   ],
   "source": [
    "df_rating=pd.read_csv('raw_data/ratings.csv')\n",
    "df_rating.head()"
   ]
  },
  {
   "cell_type": "code",
   "execution_count": 5,
   "id": "ed44a7e1",
   "metadata": {},
   "outputs": [
    {
     "data": {
      "text/html": [
       "<div>\n",
       "<style scoped>\n",
       "    .dataframe tbody tr th:only-of-type {\n",
       "        vertical-align: middle;\n",
       "    }\n",
       "\n",
       "    .dataframe tbody tr th {\n",
       "        vertical-align: top;\n",
       "    }\n",
       "\n",
       "    .dataframe thead th {\n",
       "        text-align: right;\n",
       "    }\n",
       "</style>\n",
       "<table border=\"1\" class=\"dataframe\">\n",
       "  <thead>\n",
       "    <tr style=\"text-align: right;\">\n",
       "      <th></th>\n",
       "      <th>userId</th>\n",
       "      <th>movieId</th>\n",
       "      <th>tag</th>\n",
       "      <th>timestamp</th>\n",
       "    </tr>\n",
       "  </thead>\n",
       "  <tbody>\n",
       "    <tr>\n",
       "      <th>0</th>\n",
       "      <td>2</td>\n",
       "      <td>60756</td>\n",
       "      <td>funny</td>\n",
       "      <td>1445714994</td>\n",
       "    </tr>\n",
       "    <tr>\n",
       "      <th>1</th>\n",
       "      <td>2</td>\n",
       "      <td>60756</td>\n",
       "      <td>Highly quotable</td>\n",
       "      <td>1445714996</td>\n",
       "    </tr>\n",
       "    <tr>\n",
       "      <th>2</th>\n",
       "      <td>2</td>\n",
       "      <td>60756</td>\n",
       "      <td>will ferrell</td>\n",
       "      <td>1445714992</td>\n",
       "    </tr>\n",
       "    <tr>\n",
       "      <th>3</th>\n",
       "      <td>2</td>\n",
       "      <td>89774</td>\n",
       "      <td>Boxing story</td>\n",
       "      <td>1445715207</td>\n",
       "    </tr>\n",
       "    <tr>\n",
       "      <th>4</th>\n",
       "      <td>2</td>\n",
       "      <td>89774</td>\n",
       "      <td>MMA</td>\n",
       "      <td>1445715200</td>\n",
       "    </tr>\n",
       "  </tbody>\n",
       "</table>\n",
       "</div>"
      ],
      "text/plain": [
       "   userId  movieId              tag   timestamp\n",
       "0       2    60756            funny  1445714994\n",
       "1       2    60756  Highly quotable  1445714996\n",
       "2       2    60756     will ferrell  1445714992\n",
       "3       2    89774     Boxing story  1445715207\n",
       "4       2    89774              MMA  1445715200"
      ]
     },
     "execution_count": 5,
     "metadata": {},
     "output_type": "execute_result"
    }
   ],
   "source": [
    "df_tag=pd.read_csv('raw_data/tags.csv')\n",
    "df_tag.head()"
   ]
  },
  {
   "cell_type": "markdown",
   "id": "869c3dec",
   "metadata": {},
   "source": [
    "### 1. Finding the Total Number of Ratings in the Dataset"
   ]
  },
  {
   "cell_type": "code",
   "execution_count": 6,
   "id": "4b415415",
   "metadata": {},
   "outputs": [
    {
     "name": "stdout",
     "output_type": "stream",
     "text": [
      "The total number of ratings in the ratings.csv file is : 100836\n"
     ]
    }
   ],
   "source": [
    "row,col=df_rating.shape\n",
    "print(f\"The total number of ratings in the ratings.csv file is : {row}\")"
   ]
  },
  {
   "cell_type": "markdown",
   "id": "d0421ce0",
   "metadata": {},
   "source": [
    "### 2. Identifying the Movie with the Highest Average Rating \n",
    "#### (with at least 50 ratings)"
   ]
  },
  {
   "cell_type": "code",
   "execution_count": 7,
   "id": "08e29c99",
   "metadata": {},
   "outputs": [
    {
     "name": "stdout",
     "output_type": "stream",
     "text": [
      "         count      mean\n",
      "movieId                 \n",
      "1          215  3.920930\n",
      "2          110  3.431818\n",
      "3           52  3.259615\n",
      "4            7  2.357143\n",
      "5           49  3.071429\n",
      "...        ...       ...\n",
      "193581       1  4.000000\n",
      "193583       1  3.500000\n",
      "193585       1  3.500000\n",
      "193587       1  3.500000\n",
      "193609       1  4.000000\n",
      "\n",
      "[9724 rows x 2 columns]\n"
     ]
    }
   ],
   "source": [
    "grouped=df_rating.groupby('movieId')\n",
    "movie_ratings=grouped['rating'].agg(['count','mean'])\n",
    "print(movie_ratings)"
   ]
  },
  {
   "cell_type": "code",
   "execution_count": 8,
   "id": "b06c9003",
   "metadata": {},
   "outputs": [
    {
     "name": "stdout",
     "output_type": "stream",
     "text": [
      "     movieId  count      mean\n",
      "0          1    215  3.920930\n",
      "1          2    110  3.431818\n",
      "2          3     52  3.259615\n",
      "3          6    102  3.946078\n",
      "4          7     54  3.185185\n",
      "..       ...    ...       ...\n",
      "431   106782     54  3.916667\n",
      "432   109374     52  3.778846\n",
      "433   109487     73  3.993151\n",
      "434   112852     59  4.050847\n",
      "435   122904     54  3.833333\n",
      "\n",
      "[436 rows x 3 columns]\n"
     ]
    }
   ],
   "source": [
    "# Filter out movies with fewer than 50 ratings.\n",
    "\n",
    "rating_50=movie_ratings[movie_ratings['count']>50]\n",
    "rating_50 = rating_50.reset_index()  # Move movieId from index to column\n",
    "print(rating_50)"
   ]
  },
  {
   "cell_type": "code",
   "execution_count": 9,
   "id": "4ee122a5",
   "metadata": {},
   "outputs": [
    {
     "name": "stdout",
     "output_type": "stream",
     "text": [
      "318\n"
     ]
    }
   ],
   "source": [
    "# Identifying the movie with the highest average rating.\n",
    "\n",
    "high_rate = rating_50.loc[rating_50['mean'].idxmax(), \"movieId\"]\n",
    "print(high_rate)\n"
   ]
  },
  {
   "cell_type": "code",
   "execution_count": 10,
   "id": "1031f6db",
   "metadata": {},
   "outputs": [
    {
     "name": "stdout",
     "output_type": "stream",
     "text": [
      "movie with the highest rating is : Shawshank Redemption, The (1994)\n"
     ]
    }
   ],
   "source": [
    "movie=df_movie[df_movie[\"movieId\"]==high_rate]['title'].values[0]\n",
    "print(\"movie with the highest rating is :\" ,movie)"
   ]
  },
  {
   "cell_type": "markdown",
   "id": "9125f456",
   "metadata": {},
   "source": [
    "### 3. Determining the Most Common Rating Given by Users"
   ]
  },
  {
   "cell_type": "code",
   "execution_count": 11,
   "id": "3db1a098",
   "metadata": {},
   "outputs": [
    {
     "name": "stdout",
     "output_type": "stream",
     "text": [
      "Most common ratings given by Users is :  0    4.0\n",
      "Name: rating, dtype: float64\n"
     ]
    }
   ],
   "source": [
    "most_common=df_rating['rating'].mode()\n",
    "print(\"Most common ratings given by Users is : \" , most_common)"
   ]
  },
  {
   "cell_type": "markdown",
   "id": "ae473e7a",
   "metadata": {},
   "source": [
    "### 4. Retrieving the IMDb Rating of the Highest-Rated Movie"
   ]
  },
  {
   "cell_type": "code",
   "execution_count": 12,
   "id": "606abe29",
   "metadata": {},
   "outputs": [
    {
     "name": "stdout",
     "output_type": "stream",
     "text": [
      "movie with the highest rating is : Shawshank Redemption, The (1994)\n"
     ]
    }
   ],
   "source": [
    "# identified highest-rated movie\n",
    "\n",
    "print(\"movie with the highest rating is :\" ,movie)"
   ]
  },
  {
   "cell_type": "code",
   "execution_count": 13,
   "id": "5e10d447",
   "metadata": {},
   "outputs": [
    {
     "data": {
      "text/html": [
       "<div>\n",
       "<style scoped>\n",
       "    .dataframe tbody tr th:only-of-type {\n",
       "        vertical-align: middle;\n",
       "    }\n",
       "\n",
       "    .dataframe tbody tr th {\n",
       "        vertical-align: top;\n",
       "    }\n",
       "\n",
       "    .dataframe thead th {\n",
       "        text-align: right;\n",
       "    }\n",
       "</style>\n",
       "<table border=\"1\" class=\"dataframe\">\n",
       "  <thead>\n",
       "    <tr style=\"text-align: right;\">\n",
       "      <th></th>\n",
       "      <th>movieId</th>\n",
       "      <th>title</th>\n",
       "      <th>genres</th>\n",
       "      <th>imdbId</th>\n",
       "      <th>tmdbId</th>\n",
       "    </tr>\n",
       "  </thead>\n",
       "  <tbody>\n",
       "    <tr>\n",
       "      <th>0</th>\n",
       "      <td>1</td>\n",
       "      <td>Toy Story (1995)</td>\n",
       "      <td>Adventure|Animation|Children|Comedy|Fantasy</td>\n",
       "      <td>114709</td>\n",
       "      <td>862.0</td>\n",
       "    </tr>\n",
       "    <tr>\n",
       "      <th>1</th>\n",
       "      <td>2</td>\n",
       "      <td>Jumanji (1995)</td>\n",
       "      <td>Adventure|Children|Fantasy</td>\n",
       "      <td>113497</td>\n",
       "      <td>8844.0</td>\n",
       "    </tr>\n",
       "    <tr>\n",
       "      <th>2</th>\n",
       "      <td>3</td>\n",
       "      <td>Grumpier Old Men (1995)</td>\n",
       "      <td>Comedy|Romance</td>\n",
       "      <td>113228</td>\n",
       "      <td>15602.0</td>\n",
       "    </tr>\n",
       "    <tr>\n",
       "      <th>3</th>\n",
       "      <td>4</td>\n",
       "      <td>Waiting to Exhale (1995)</td>\n",
       "      <td>Comedy|Drama|Romance</td>\n",
       "      <td>114885</td>\n",
       "      <td>31357.0</td>\n",
       "    </tr>\n",
       "    <tr>\n",
       "      <th>4</th>\n",
       "      <td>5</td>\n",
       "      <td>Father of the Bride Part II (1995)</td>\n",
       "      <td>Comedy</td>\n",
       "      <td>113041</td>\n",
       "      <td>11862.0</td>\n",
       "    </tr>\n",
       "  </tbody>\n",
       "</table>\n",
       "</div>"
      ],
      "text/plain": [
       "   movieId                               title  \\\n",
       "0        1                    Toy Story (1995)   \n",
       "1        2                      Jumanji (1995)   \n",
       "2        3             Grumpier Old Men (1995)   \n",
       "3        4            Waiting to Exhale (1995)   \n",
       "4        5  Father of the Bride Part II (1995)   \n",
       "\n",
       "                                        genres  imdbId   tmdbId  \n",
       "0  Adventure|Animation|Children|Comedy|Fantasy  114709    862.0  \n",
       "1                   Adventure|Children|Fantasy  113497   8844.0  \n",
       "2                               Comedy|Romance  113228  15602.0  \n",
       "3                         Comedy|Drama|Romance  114885  31357.0  \n",
       "4                                       Comedy  113041  11862.0  "
      ]
     },
     "execution_count": 13,
     "metadata": {},
     "output_type": "execute_result"
    }
   ],
   "source": [
    "#Merging the movie and links dataset\n",
    "\n",
    "movie_link=pd.merge(df_movie,df_links)\n",
    "movie_link.head()"
   ]
  },
  {
   "cell_type": "code",
   "execution_count": 14,
   "id": "a42e3e2a",
   "metadata": {},
   "outputs": [
    {
     "name": "stdout",
     "output_type": "stream",
     "text": [
      " IMDb ID of Shawshank Redemption, The (1994) is  :  111161\n"
     ]
    }
   ],
   "source": [
    "#Extracting the IMDb ID of the highest-rated movie\n",
    "\n",
    "imdb=movie_link[movie_link[\"title\"]==movie]['imdbId'].values[0]\n",
    "print(\" IMDb ID of\",movie ,\"is  : \" ,imdb)"
   ]
  },
  {
   "cell_type": "code",
   "execution_count": 15,
   "id": "f142539a",
   "metadata": {},
   "outputs": [],
   "source": [
    "#Scrapping code\n",
    "\n",
    "import requests\n",
    "from bs4 import BeautifulSoup\n",
    "\n",
    "def scrapper(imdbId):\n",
    " id = str(int(imdbId))\n",
    " n_zeroes = 7 - len(id)\n",
    " new_id = \"0\" * n_zeroes + id\n",
    " URL = f\"https://www.imdb.com/title/tt{new_id}/\"\n",
    " print(f\"Accessing URL: {URL}\") # Debug print\n",
    "\n",
    " request_header = {\n",
    " 'Content-Type': 'text/html; charset=UTF-8',\n",
    " 'User-Agent': 'Mozilla/5.0 (Windows NT 10.0; Win64; x64; rv:109.0)Gecko/20100101 Firefox/119.0',\n",
    " 'Accept-Encoding': 'gzip, deflate, br'\n",
    " }\n",
    "\n",
    " response = requests.get(URL, headers=request_header)\n",
    " print(f\"Response status code: {response.status_code}\") # Debug print\n",
    "\n",
    " soup = BeautifulSoup(response.text, 'html.parser')\n",
    " imdb_rating = soup.find('span', attrs={'class': 'sc-eb51e184-1ljxVSS'})\n",
    "\n",
    " if imdb_rating:\n",
    "     print(f\"Found rating: {imdb_rating.text}\")\n",
    " else:\n",
    "     print(\"Rating not found\")\n",
    "\n",
    " return imdb_rating.text if imdb_rating else np.nan"
   ]
  },
  {
   "cell_type": "code",
   "execution_count": 16,
   "id": "ff6a9662",
   "metadata": {},
   "outputs": [
    {
     "name": "stdout",
     "output_type": "stream",
     "text": [
      "Accessing URL: https://www.imdb.com/title/tt0111161/\n",
      "Response status code: 200\n",
      "Rating not found\n",
      "IMDb Rating of Shawshank Redemption, The (1994): nan\n"
     ]
    }
   ],
   "source": [
    "# Scrape IMDb rating\n",
    "imdb_rating = scrapper(imdb)\n",
    "print(f\"IMDb Rating of {movie}: {imdb_rating}\")"
   ]
  },
  {
   "cell_type": "markdown",
   "id": "201bc0ea",
   "metadata": {},
   "source": [
    "### 5. Counting Sci-Fi Movies with More Than 100 Ratings"
   ]
  },
  {
   "cell_type": "code",
   "execution_count": 17,
   "id": "63a68f12",
   "metadata": {},
   "outputs": [
    {
     "data": {
      "text/html": [
       "<div>\n",
       "<style scoped>\n",
       "    .dataframe tbody tr th:only-of-type {\n",
       "        vertical-align: middle;\n",
       "    }\n",
       "\n",
       "    .dataframe tbody tr th {\n",
       "        vertical-align: top;\n",
       "    }\n",
       "\n",
       "    .dataframe thead th {\n",
       "        text-align: right;\n",
       "    }\n",
       "</style>\n",
       "<table border=\"1\" class=\"dataframe\">\n",
       "  <thead>\n",
       "    <tr style=\"text-align: right;\">\n",
       "      <th></th>\n",
       "      <th>movieId</th>\n",
       "      <th>title</th>\n",
       "      <th>genres</th>\n",
       "      <th>userId</th>\n",
       "      <th>rating</th>\n",
       "      <th>timestamp</th>\n",
       "    </tr>\n",
       "  </thead>\n",
       "  <tbody>\n",
       "    <tr>\n",
       "      <th>0</th>\n",
       "      <td>1</td>\n",
       "      <td>Toy Story (1995)</td>\n",
       "      <td>Adventure|Animation|Children|Comedy|Fantasy</td>\n",
       "      <td>1</td>\n",
       "      <td>4.0</td>\n",
       "      <td>964982703</td>\n",
       "    </tr>\n",
       "    <tr>\n",
       "      <th>1</th>\n",
       "      <td>1</td>\n",
       "      <td>Toy Story (1995)</td>\n",
       "      <td>Adventure|Animation|Children|Comedy|Fantasy</td>\n",
       "      <td>5</td>\n",
       "      <td>4.0</td>\n",
       "      <td>847434962</td>\n",
       "    </tr>\n",
       "    <tr>\n",
       "      <th>2</th>\n",
       "      <td>1</td>\n",
       "      <td>Toy Story (1995)</td>\n",
       "      <td>Adventure|Animation|Children|Comedy|Fantasy</td>\n",
       "      <td>7</td>\n",
       "      <td>4.5</td>\n",
       "      <td>1106635946</td>\n",
       "    </tr>\n",
       "    <tr>\n",
       "      <th>3</th>\n",
       "      <td>1</td>\n",
       "      <td>Toy Story (1995)</td>\n",
       "      <td>Adventure|Animation|Children|Comedy|Fantasy</td>\n",
       "      <td>15</td>\n",
       "      <td>2.5</td>\n",
       "      <td>1510577970</td>\n",
       "    </tr>\n",
       "    <tr>\n",
       "      <th>4</th>\n",
       "      <td>1</td>\n",
       "      <td>Toy Story (1995)</td>\n",
       "      <td>Adventure|Animation|Children|Comedy|Fantasy</td>\n",
       "      <td>17</td>\n",
       "      <td>4.5</td>\n",
       "      <td>1305696483</td>\n",
       "    </tr>\n",
       "  </tbody>\n",
       "</table>\n",
       "</div>"
      ],
      "text/plain": [
       "   movieId             title                                       genres  \\\n",
       "0        1  Toy Story (1995)  Adventure|Animation|Children|Comedy|Fantasy   \n",
       "1        1  Toy Story (1995)  Adventure|Animation|Children|Comedy|Fantasy   \n",
       "2        1  Toy Story (1995)  Adventure|Animation|Children|Comedy|Fantasy   \n",
       "3        1  Toy Story (1995)  Adventure|Animation|Children|Comedy|Fantasy   \n",
       "4        1  Toy Story (1995)  Adventure|Animation|Children|Comedy|Fantasy   \n",
       "\n",
       "   userId  rating   timestamp  \n",
       "0       1     4.0   964982703  \n",
       "1       5     4.0   847434962  \n",
       "2       7     4.5  1106635946  \n",
       "3      15     2.5  1510577970  \n",
       "4      17     4.5  1305696483  "
      ]
     },
     "execution_count": 17,
     "metadata": {},
     "output_type": "execute_result"
    }
   ],
   "source": [
    "#Filter movies that belong to the \"Sci-Fi\" genre\n",
    "\n",
    "movie_rating=pd.merge(df_movie,df_rating)\n",
    "movie_rating.head()"
   ]
  },
  {
   "cell_type": "code",
   "execution_count": 18,
   "id": "e06d2516",
   "metadata": {},
   "outputs": [
    {
     "data": {
      "text/html": [
       "<div>\n",
       "<style scoped>\n",
       "    .dataframe tbody tr th:only-of-type {\n",
       "        vertical-align: middle;\n",
       "    }\n",
       "\n",
       "    .dataframe tbody tr th {\n",
       "        vertical-align: top;\n",
       "    }\n",
       "\n",
       "    .dataframe thead th {\n",
       "        text-align: right;\n",
       "    }\n",
       "</style>\n",
       "<table border=\"1\" class=\"dataframe\">\n",
       "  <thead>\n",
       "    <tr style=\"text-align: right;\">\n",
       "      <th></th>\n",
       "      <th>movieId</th>\n",
       "      <th>title</th>\n",
       "      <th>genres</th>\n",
       "      <th>userId</th>\n",
       "      <th>rating</th>\n",
       "      <th>timestamp</th>\n",
       "    </tr>\n",
       "  </thead>\n",
       "  <tbody>\n",
       "    <tr>\n",
       "      <th>41853</th>\n",
       "      <td>2311</td>\n",
       "      <td>2010: The Year We Make Contact (1984)</td>\n",
       "      <td>Sci-Fi</td>\n",
       "      <td>27</td>\n",
       "      <td>2.0</td>\n",
       "      <td>965151086</td>\n",
       "    </tr>\n",
       "    <tr>\n",
       "      <th>41854</th>\n",
       "      <td>2311</td>\n",
       "      <td>2010: The Year We Make Contact (1984)</td>\n",
       "      <td>Sci-Fi</td>\n",
       "      <td>42</td>\n",
       "      <td>4.0</td>\n",
       "      <td>996259554</td>\n",
       "    </tr>\n",
       "    <tr>\n",
       "      <th>41855</th>\n",
       "      <td>2311</td>\n",
       "      <td>2010: The Year We Make Contact (1984)</td>\n",
       "      <td>Sci-Fi</td>\n",
       "      <td>45</td>\n",
       "      <td>4.0</td>\n",
       "      <td>950740918</td>\n",
       "    </tr>\n",
       "    <tr>\n",
       "      <th>41856</th>\n",
       "      <td>2311</td>\n",
       "      <td>2010: The Year We Make Contact (1984)</td>\n",
       "      <td>Sci-Fi</td>\n",
       "      <td>57</td>\n",
       "      <td>4.0</td>\n",
       "      <td>965798823</td>\n",
       "    </tr>\n",
       "    <tr>\n",
       "      <th>41857</th>\n",
       "      <td>2311</td>\n",
       "      <td>2010: The Year We Make Contact (1984)</td>\n",
       "      <td>Sci-Fi</td>\n",
       "      <td>182</td>\n",
       "      <td>4.0</td>\n",
       "      <td>1055152324</td>\n",
       "    </tr>\n",
       "    <tr>\n",
       "      <th>...</th>\n",
       "      <td>...</td>\n",
       "      <td>...</td>\n",
       "      <td>...</td>\n",
       "      <td>...</td>\n",
       "      <td>...</td>\n",
       "      <td>...</td>\n",
       "    </tr>\n",
       "    <tr>\n",
       "      <th>100589</th>\n",
       "      <td>176371</td>\n",
       "      <td>Blade Runner 2049 (2017)</td>\n",
       "      <td>Sci-Fi</td>\n",
       "      <td>515</td>\n",
       "      <td>5.0</td>\n",
       "      <td>1513602051</td>\n",
       "    </tr>\n",
       "    <tr>\n",
       "      <th>100590</th>\n",
       "      <td>176371</td>\n",
       "      <td>Blade Runner 2049 (2017)</td>\n",
       "      <td>Sci-Fi</td>\n",
       "      <td>567</td>\n",
       "      <td>5.0</td>\n",
       "      <td>1525282063</td>\n",
       "    </tr>\n",
       "    <tr>\n",
       "      <th>100591</th>\n",
       "      <td>176371</td>\n",
       "      <td>Blade Runner 2049 (2017)</td>\n",
       "      <td>Sci-Fi</td>\n",
       "      <td>586</td>\n",
       "      <td>2.5</td>\n",
       "      <td>1529899177</td>\n",
       "    </tr>\n",
       "    <tr>\n",
       "      <th>100592</th>\n",
       "      <td>176371</td>\n",
       "      <td>Blade Runner 2049 (2017)</td>\n",
       "      <td>Sci-Fi</td>\n",
       "      <td>599</td>\n",
       "      <td>3.5</td>\n",
       "      <td>1508605770</td>\n",
       "    </tr>\n",
       "    <tr>\n",
       "      <th>100593</th>\n",
       "      <td>176371</td>\n",
       "      <td>Blade Runner 2049 (2017)</td>\n",
       "      <td>Sci-Fi</td>\n",
       "      <td>601</td>\n",
       "      <td>4.0</td>\n",
       "      <td>1521397623</td>\n",
       "    </tr>\n",
       "  </tbody>\n",
       "</table>\n",
       "<p>142 rows × 6 columns</p>\n",
       "</div>"
      ],
      "text/plain": [
       "        movieId                                  title  genres  userId  \\\n",
       "41853      2311  2010: The Year We Make Contact (1984)  Sci-Fi      27   \n",
       "41854      2311  2010: The Year We Make Contact (1984)  Sci-Fi      42   \n",
       "41855      2311  2010: The Year We Make Contact (1984)  Sci-Fi      45   \n",
       "41856      2311  2010: The Year We Make Contact (1984)  Sci-Fi      57   \n",
       "41857      2311  2010: The Year We Make Contact (1984)  Sci-Fi     182   \n",
       "...         ...                                    ...     ...     ...   \n",
       "100589   176371               Blade Runner 2049 (2017)  Sci-Fi     515   \n",
       "100590   176371               Blade Runner 2049 (2017)  Sci-Fi     567   \n",
       "100591   176371               Blade Runner 2049 (2017)  Sci-Fi     586   \n",
       "100592   176371               Blade Runner 2049 (2017)  Sci-Fi     599   \n",
       "100593   176371               Blade Runner 2049 (2017)  Sci-Fi     601   \n",
       "\n",
       "        rating   timestamp  \n",
       "41853      2.0   965151086  \n",
       "41854      4.0   996259554  \n",
       "41855      4.0   950740918  \n",
       "41856      4.0   965798823  \n",
       "41857      4.0  1055152324  \n",
       "...        ...         ...  \n",
       "100589     5.0  1513602051  \n",
       "100590     5.0  1525282063  \n",
       "100591     2.5  1529899177  \n",
       "100592     3.5  1508605770  \n",
       "100593     4.0  1521397623  \n",
       "\n",
       "[142 rows x 6 columns]"
      ]
     },
     "execution_count": 18,
     "metadata": {},
     "output_type": "execute_result"
    }
   ],
   "source": [
    "#Filter movies that belong to the \"Sci-Fi\" genre\n",
    "\n",
    "sci_fi=movie_rating[movie_rating[\"genres\"]=='Sci-Fi']\n",
    "sci_fi"
   ]
  },
  {
   "cell_type": "code",
   "execution_count": 19,
   "id": "a51ad0b2",
   "metadata": {},
   "outputs": [
    {
     "data": {
      "text/html": [
       "<div>\n",
       "<style scoped>\n",
       "    .dataframe tbody tr th:only-of-type {\n",
       "        vertical-align: middle;\n",
       "    }\n",
       "\n",
       "    .dataframe tbody tr th {\n",
       "        vertical-align: top;\n",
       "    }\n",
       "\n",
       "    .dataframe thead th {\n",
       "        text-align: right;\n",
       "    }\n",
       "</style>\n",
       "<table border=\"1\" class=\"dataframe\">\n",
       "  <thead>\n",
       "    <tr style=\"text-align: right;\">\n",
       "      <th></th>\n",
       "      <th>movieId</th>\n",
       "      <th>rating</th>\n",
       "    </tr>\n",
       "  </thead>\n",
       "  <tbody>\n",
       "    <tr>\n",
       "      <th>0</th>\n",
       "      <td>2311</td>\n",
       "      <td>17</td>\n",
       "    </tr>\n",
       "    <tr>\n",
       "      <th>1</th>\n",
       "      <td>2526</td>\n",
       "      <td>3</td>\n",
       "    </tr>\n",
       "    <tr>\n",
       "      <th>2</th>\n",
       "      <td>2661</td>\n",
       "      <td>1</td>\n",
       "    </tr>\n",
       "    <tr>\n",
       "      <th>3</th>\n",
       "      <td>2665</td>\n",
       "      <td>1</td>\n",
       "    </tr>\n",
       "    <tr>\n",
       "      <th>4</th>\n",
       "      <td>2698</td>\n",
       "      <td>1</td>\n",
       "    </tr>\n",
       "    <tr>\n",
       "      <th>5</th>\n",
       "      <td>3354</td>\n",
       "      <td>21</td>\n",
       "    </tr>\n",
       "    <tr>\n",
       "      <th>6</th>\n",
       "      <td>4198</td>\n",
       "      <td>1</td>\n",
       "    </tr>\n",
       "    <tr>\n",
       "      <th>7</th>\n",
       "      <td>4813</td>\n",
       "      <td>1</td>\n",
       "    </tr>\n",
       "    <tr>\n",
       "      <th>8</th>\n",
       "      <td>4942</td>\n",
       "      <td>1</td>\n",
       "    </tr>\n",
       "    <tr>\n",
       "      <th>9</th>\n",
       "      <td>5468</td>\n",
       "      <td>1</td>\n",
       "    </tr>\n",
       "    <tr>\n",
       "      <th>10</th>\n",
       "      <td>5919</td>\n",
       "      <td>2</td>\n",
       "    </tr>\n",
       "    <tr>\n",
       "      <th>11</th>\n",
       "      <td>6302</td>\n",
       "      <td>1</td>\n",
       "    </tr>\n",
       "    <tr>\n",
       "      <th>12</th>\n",
       "      <td>6836</td>\n",
       "      <td>1</td>\n",
       "    </tr>\n",
       "    <tr>\n",
       "      <th>13</th>\n",
       "      <td>6899</td>\n",
       "      <td>1</td>\n",
       "    </tr>\n",
       "    <tr>\n",
       "      <th>14</th>\n",
       "      <td>7236</td>\n",
       "      <td>3</td>\n",
       "    </tr>\n",
       "    <tr>\n",
       "      <th>15</th>\n",
       "      <td>7986</td>\n",
       "      <td>1</td>\n",
       "    </tr>\n",
       "    <tr>\n",
       "      <th>16</th>\n",
       "      <td>8447</td>\n",
       "      <td>1</td>\n",
       "    </tr>\n",
       "    <tr>\n",
       "      <th>17</th>\n",
       "      <td>26124</td>\n",
       "      <td>1</td>\n",
       "    </tr>\n",
       "    <tr>\n",
       "      <th>18</th>\n",
       "      <td>27074</td>\n",
       "      <td>1</td>\n",
       "    </tr>\n",
       "    <tr>\n",
       "      <th>19</th>\n",
       "      <td>40697</td>\n",
       "      <td>2</td>\n",
       "    </tr>\n",
       "    <tr>\n",
       "      <th>20</th>\n",
       "      <td>51562</td>\n",
       "      <td>1</td>\n",
       "    </tr>\n",
       "    <tr>\n",
       "      <th>21</th>\n",
       "      <td>60674</td>\n",
       "      <td>1</td>\n",
       "    </tr>\n",
       "    <tr>\n",
       "      <th>22</th>\n",
       "      <td>62834</td>\n",
       "      <td>1</td>\n",
       "    </tr>\n",
       "    <tr>\n",
       "      <th>23</th>\n",
       "      <td>62836</td>\n",
       "      <td>1</td>\n",
       "    </tr>\n",
       "    <tr>\n",
       "      <th>24</th>\n",
       "      <td>77795</td>\n",
       "      <td>1</td>\n",
       "    </tr>\n",
       "    <tr>\n",
       "      <th>25</th>\n",
       "      <td>103596</td>\n",
       "      <td>4</td>\n",
       "    </tr>\n",
       "    <tr>\n",
       "      <th>26</th>\n",
       "      <td>112623</td>\n",
       "      <td>15</td>\n",
       "    </tr>\n",
       "    <tr>\n",
       "      <th>27</th>\n",
       "      <td>118290</td>\n",
       "      <td>1</td>\n",
       "    </tr>\n",
       "    <tr>\n",
       "      <th>28</th>\n",
       "      <td>122627</td>\n",
       "      <td>1</td>\n",
       "    </tr>\n",
       "    <tr>\n",
       "      <th>29</th>\n",
       "      <td>145724</td>\n",
       "      <td>1</td>\n",
       "    </tr>\n",
       "    <tr>\n",
       "      <th>30</th>\n",
       "      <td>147376</td>\n",
       "      <td>2</td>\n",
       "    </tr>\n",
       "    <tr>\n",
       "      <th>31</th>\n",
       "      <td>147384</td>\n",
       "      <td>4</td>\n",
       "    </tr>\n",
       "    <tr>\n",
       "      <th>32</th>\n",
       "      <td>158388</td>\n",
       "      <td>1</td>\n",
       "    </tr>\n",
       "    <tr>\n",
       "      <th>33</th>\n",
       "      <td>161044</td>\n",
       "      <td>1</td>\n",
       "    </tr>\n",
       "    <tr>\n",
       "      <th>34</th>\n",
       "      <td>164179</td>\n",
       "      <td>26</td>\n",
       "    </tr>\n",
       "    <tr>\n",
       "      <th>35</th>\n",
       "      <td>169904</td>\n",
       "      <td>1</td>\n",
       "    </tr>\n",
       "    <tr>\n",
       "      <th>36</th>\n",
       "      <td>176371</td>\n",
       "      <td>18</td>\n",
       "    </tr>\n",
       "  </tbody>\n",
       "</table>\n",
       "</div>"
      ],
      "text/plain": [
       "    movieId  rating\n",
       "0      2311      17\n",
       "1      2526       3\n",
       "2      2661       1\n",
       "3      2665       1\n",
       "4      2698       1\n",
       "5      3354      21\n",
       "6      4198       1\n",
       "7      4813       1\n",
       "8      4942       1\n",
       "9      5468       1\n",
       "10     5919       2\n",
       "11     6302       1\n",
       "12     6836       1\n",
       "13     6899       1\n",
       "14     7236       3\n",
       "15     7986       1\n",
       "16     8447       1\n",
       "17    26124       1\n",
       "18    27074       1\n",
       "19    40697       2\n",
       "20    51562       1\n",
       "21    60674       1\n",
       "22    62834       1\n",
       "23    62836       1\n",
       "24    77795       1\n",
       "25   103596       4\n",
       "26   112623      15\n",
       "27   118290       1\n",
       "28   122627       1\n",
       "29   145724       1\n",
       "30   147376       2\n",
       "31   147384       4\n",
       "32   158388       1\n",
       "33   161044       1\n",
       "34   164179      26\n",
       "35   169904       1\n",
       "36   176371      18"
      ]
     },
     "execution_count": 19,
     "metadata": {},
     "output_type": "execute_result"
    }
   ],
   "source": [
    "# Count the number of ratings for each Sci-Fi movie\n",
    "\n",
    "sci_fi_counts = sci_fi.groupby(\"movieId\")[\"rating\"].count().reset_index()\n",
    "sci_fi_counts"
   ]
  },
  {
   "cell_type": "code",
   "execution_count": 20,
   "id": "f16e19a1",
   "metadata": {},
   "outputs": [
    {
     "data": {
      "text/html": [
       "<div>\n",
       "<style scoped>\n",
       "    .dataframe tbody tr th:only-of-type {\n",
       "        vertical-align: middle;\n",
       "    }\n",
       "\n",
       "    .dataframe tbody tr th {\n",
       "        vertical-align: top;\n",
       "    }\n",
       "\n",
       "    .dataframe thead th {\n",
       "        text-align: right;\n",
       "    }\n",
       "</style>\n",
       "<table border=\"1\" class=\"dataframe\">\n",
       "  <thead>\n",
       "    <tr style=\"text-align: right;\">\n",
       "      <th></th>\n",
       "      <th>movieId</th>\n",
       "      <th>rating</th>\n",
       "    </tr>\n",
       "  </thead>\n",
       "  <tbody>\n",
       "  </tbody>\n",
       "</table>\n",
       "</div>"
      ],
      "text/plain": [
       "Empty DataFrame\n",
       "Columns: [movieId, rating]\n",
       "Index: []"
      ]
     },
     "execution_count": 20,
     "metadata": {},
     "output_type": "execute_result"
    }
   ],
   "source": [
    "#filter Sci-Fi movies that have received more than 100 ratings.\n",
    "\n",
    "popular_sci_fi = sci_fi_counts[sci_fi_counts[\"rating\"] > 100]\n",
    "popular_sci_fi"
   ]
  },
  {
   "cell_type": "code",
   "execution_count": 21,
   "id": "de33234d",
   "metadata": {},
   "outputs": [
    {
     "name": "stdout",
     "output_type": "stream",
     "text": [
      "Number of Sci-Fi movies with more than 100 ratings: 0\n"
     ]
    }
   ],
   "source": [
    "# Print the number of such movies\n",
    "print(\"Number of Sci-Fi movies with more than 100 ratings:\", len(popular_sci_fi))"
   ]
  },
  {
   "cell_type": "markdown",
   "id": "f29d32f4",
   "metadata": {},
   "source": [
    "# 2nd Set "
   ]
  },
  {
   "cell_type": "markdown",
   "id": "639552b8",
   "metadata": {},
   "source": [
    "### 1. How many CSV files are in the dataset directory?"
   ]
  },
  {
   "cell_type": "code",
   "execution_count": 22,
   "id": "d3ce6602",
   "metadata": {},
   "outputs": [
    {
     "name": "stdout",
     "output_type": "stream",
     "text": [
      "['links.csv', 'movies.csv', 'ratings.csv', 'README.txt', 'tags.csv']\n",
      "The number of CSV files in Directory is :  4\n"
     ]
    }
   ],
   "source": [
    "import os\n",
    "\n",
    "directory='raw_data'\n",
    "list= os.listdir(directory)\n",
    "print(list)\n",
    "c=0\n",
    "for file in list:\n",
    "    if file.endswith(\".csv\"):\n",
    "        c+=1\n",
    "        \n",
    "print(\"The number of CSV files in Directory is : \",c)"
   ]
  },
  {
   "cell_type": "markdown",
   "id": "0416ef97",
   "metadata": {},
   "source": [
    "### 2. What does movies_df.shape return?"
   ]
  },
  {
   "cell_type": "code",
   "execution_count": 23,
   "id": "1603e0a6",
   "metadata": {},
   "outputs": [
    {
     "data": {
      "text/plain": [
       "(9742, 3)"
      ]
     },
     "execution_count": 23,
     "metadata": {},
     "output_type": "execute_result"
    }
   ],
   "source": [
    "df_movie.shape"
   ]
  },
  {
   "cell_type": "markdown",
   "id": "c368deb6",
   "metadata": {},
   "source": [
    "it returns number of rows i.e 9742 and columns i.e 3"
   ]
  },
  {
   "cell_type": "markdown",
   "id": "ea59294f",
   "metadata": {},
   "source": [
    "### 3. What does ratings_df['userId'].nunique() return?"
   ]
  },
  {
   "cell_type": "code",
   "execution_count": 24,
   "id": "ead4d100",
   "metadata": {},
   "outputs": [
    {
     "data": {
      "text/plain": [
       "610"
      ]
     },
     "execution_count": 24,
     "metadata": {},
     "output_type": "execute_result"
    }
   ],
   "source": [
    "df_rating['userId'].nunique()"
   ]
  },
  {
   "cell_type": "markdown",
   "id": "2f7ba5a2",
   "metadata": {},
   "source": [
    " it returns the number of unique values present in the column userId"
   ]
  },
  {
   "cell_type": "markdown",
   "id": "ee6c9775",
   "metadata": {},
   "source": [
    "### 4. How is the most-rated movie identified in the dataset?"
   ]
  },
  {
   "cell_type": "code",
   "execution_count": 25,
   "id": "742345bc",
   "metadata": {},
   "outputs": [
    {
     "data": {
      "text/html": [
       "<div>\n",
       "<style scoped>\n",
       "    .dataframe tbody tr th:only-of-type {\n",
       "        vertical-align: middle;\n",
       "    }\n",
       "\n",
       "    .dataframe tbody tr th {\n",
       "        vertical-align: top;\n",
       "    }\n",
       "\n",
       "    .dataframe thead th {\n",
       "        text-align: right;\n",
       "    }\n",
       "</style>\n",
       "<table border=\"1\" class=\"dataframe\">\n",
       "  <thead>\n",
       "    <tr style=\"text-align: right;\">\n",
       "      <th></th>\n",
       "      <th>userId</th>\n",
       "      <th>movieId</th>\n",
       "      <th>rating</th>\n",
       "      <th>timestamp</th>\n",
       "    </tr>\n",
       "  </thead>\n",
       "  <tbody>\n",
       "    <tr>\n",
       "      <th>0</th>\n",
       "      <td>1</td>\n",
       "      <td>1</td>\n",
       "      <td>4.0</td>\n",
       "      <td>964982703</td>\n",
       "    </tr>\n",
       "    <tr>\n",
       "      <th>1</th>\n",
       "      <td>1</td>\n",
       "      <td>3</td>\n",
       "      <td>4.0</td>\n",
       "      <td>964981247</td>\n",
       "    </tr>\n",
       "    <tr>\n",
       "      <th>2</th>\n",
       "      <td>1</td>\n",
       "      <td>6</td>\n",
       "      <td>4.0</td>\n",
       "      <td>964982224</td>\n",
       "    </tr>\n",
       "    <tr>\n",
       "      <th>3</th>\n",
       "      <td>1</td>\n",
       "      <td>47</td>\n",
       "      <td>5.0</td>\n",
       "      <td>964983815</td>\n",
       "    </tr>\n",
       "    <tr>\n",
       "      <th>4</th>\n",
       "      <td>1</td>\n",
       "      <td>50</td>\n",
       "      <td>5.0</td>\n",
       "      <td>964982931</td>\n",
       "    </tr>\n",
       "  </tbody>\n",
       "</table>\n",
       "</div>"
      ],
      "text/plain": [
       "   userId  movieId  rating  timestamp\n",
       "0       1        1     4.0  964982703\n",
       "1       1        3     4.0  964981247\n",
       "2       1        6     4.0  964982224\n",
       "3       1       47     5.0  964983815\n",
       "4       1       50     5.0  964982931"
      ]
     },
     "execution_count": 25,
     "metadata": {},
     "output_type": "execute_result"
    }
   ],
   "source": [
    "df_rating.head()"
   ]
  },
  {
   "cell_type": "code",
   "execution_count": 26,
   "id": "a11f9150",
   "metadata": {},
   "outputs": [
    {
     "data": {
      "text/plain": [
       "356       329\n",
       "318       317\n",
       "296       307\n",
       "593       279\n",
       "2571      278\n",
       "         ... \n",
       "86279       1\n",
       "86922       1\n",
       "5962        1\n",
       "87660       1\n",
       "163981      1\n",
       "Name: movieId, Length: 9724, dtype: int64"
      ]
     },
     "execution_count": 26,
     "metadata": {},
     "output_type": "execute_result"
    }
   ],
   "source": [
    "df_rating['movieId'].value_counts()"
   ]
  },
  {
   "cell_type": "code",
   "execution_count": 27,
   "id": "4296a9de",
   "metadata": {},
   "outputs": [
    {
     "data": {
      "text/plain": [
       "329"
      ]
     },
     "execution_count": 27,
     "metadata": {},
     "output_type": "execute_result"
    }
   ],
   "source": [
    "df_rating['movieId'].value_counts().max()"
   ]
  },
  {
   "cell_type": "markdown",
   "id": "090a86ef",
   "metadata": {},
   "source": [
    "### 5. What type of data does tags_df[tags_df['movieId'] == matrix_movie_id]['tag'].unique() return?"
   ]
  },
  {
   "cell_type": "code",
   "execution_count": 28,
   "id": "f381d3ff",
   "metadata": {},
   "outputs": [
    {
     "name": "stdout",
     "output_type": "stream",
     "text": [
      "Id of Matrix, The (1999) movie is : 2571\n"
     ]
    },
    {
     "data": {
      "text/plain": [
       "array(['martial arts', 'sci-fi', 'alternate universe', 'philosophy',\n",
       "       'post apocalyptic'], dtype=object)"
      ]
     },
     "execution_count": 28,
     "metadata": {},
     "output_type": "execute_result"
    }
   ],
   "source": [
    "matrix_movie_id = df_movie[df_movie[\"title\"] == \"Matrix, The (1999)\"][\"movieId\"].values[0]\n",
    "print(\"Id of Matrix, The (1999) movie is :\" , matrix_movie_id)\n",
    "\n",
    "df_tag[df_tag['movieId'] == matrix_movie_id]['tag'].unique()"
   ]
  },
  {
   "cell_type": "markdown",
   "id": "0d4ac4b2",
   "metadata": {},
   "source": [
    "It returns the unique tags assigned to The Matrix (1999)."
   ]
  },
  {
   "cell_type": "markdown",
   "id": "75a29828",
   "metadata": {},
   "source": [
    "### 6. If mean_rating = sum(ratings) / len(ratings), what does it calculate?"
   ]
  },
  {
   "cell_type": "code",
   "execution_count": 29,
   "id": "c79a6f60",
   "metadata": {},
   "outputs": [],
   "source": [
    "sum=df_rating[\"rating\"].sum()"
   ]
  },
  {
   "cell_type": "code",
   "execution_count": 30,
   "id": "ac818cdf",
   "metadata": {},
   "outputs": [
    {
     "data": {
      "text/plain": [
       "100836"
      ]
     },
     "execution_count": 30,
     "metadata": {},
     "output_type": "execute_result"
    }
   ],
   "source": [
    "length=len(df_rating[\"rating\"])\n",
    "length"
   ]
  },
  {
   "cell_type": "code",
   "execution_count": 31,
   "id": "578584d9",
   "metadata": {},
   "outputs": [
    {
     "name": "stdout",
     "output_type": "stream",
     "text": [
      "The average :  3.501556983616962\n"
     ]
    }
   ],
   "source": [
    "mean_rating=sum/length\n",
    "print(\"The average : \",mean_rating)"
   ]
  },
  {
   "cell_type": "markdown",
   "id": "972b78e1",
   "metadata": {},
   "source": [
    " It gives the average of all the ratings."
   ]
  },
  {
   "cell_type": "markdown",
   "id": "e1c7261e",
   "metadata": {},
   "source": [
    "### 7. What does stats.skew(fight_club_ratings) measure?\n"
   ]
  },
  {
   "cell_type": "code",
   "execution_count": 32,
   "id": "c21a76a3",
   "metadata": {},
   "outputs": [
    {
     "name": "stdout",
     "output_type": "stream",
     "text": [
      "Fight Club movie ID :  2959\n",
      "Fight Club movie rating : \n",
      " 192      5.0\n",
      "458      2.0\n",
      "1134     0.5\n",
      "1479     2.5\n",
      "1635     3.5\n",
      "        ... \n",
      "95893    5.0\n",
      "96788    4.0\n",
      "97835    5.0\n",
      "99107    5.0\n",
      "99699    5.0\n",
      "Name: rating, Length: 218, dtype: float64\n",
      "Skewness of Fight Club ratings: -1.8474937360359363\n"
     ]
    }
   ],
   "source": [
    "from scipy.stats import skew\n",
    "\n",
    "Fight_id=df_movie[df_movie[\"title\"]==\"Fight Club (1999)\"][\"movieId\"].values[0]\n",
    "print(\"Fight Club movie ID : \",Fight_id)\n",
    "\n",
    "rating=df_rating[df_rating['movieId']==Fight_id]['rating']\n",
    "print(\"Fight Club movie rating : \\n\",rating)\n",
    "\n",
    "# Calculate skewness\n",
    "skewness = skew(rating)\n",
    "\n",
    "print(f\"Skewness of Fight Club ratings: {skewness}\")"
   ]
  },
  {
   "cell_type": "markdown",
   "id": "91874778",
   "metadata": {},
   "source": [
    " as rating is in negative values its means it is left-skewed."
   ]
  },
  {
   "cell_type": "markdown",
   "id": "e8a7afd4",
   "metadata": {},
   "source": [
    "### 8. What filter is applied to filtered_df before sorting popular movies?"
   ]
  },
  {
   "cell_type": "code",
   "execution_count": 33,
   "id": "5da5bacc",
   "metadata": {},
   "outputs": [
    {
     "name": "stdout",
     "output_type": "stream",
     "text": [
      "      movieId  rating\n",
      "0           1     215\n",
      "1           2     110\n",
      "2           3      52\n",
      "3           4       7\n",
      "4           5      49\n",
      "...       ...     ...\n",
      "9719   193581       1\n",
      "9720   193583       1\n",
      "9721   193585       1\n",
      "9722   193587       1\n",
      "9723   193609       1\n",
      "\n",
      "[9724 rows x 2 columns]\n"
     ]
    }
   ],
   "source": [
    "grouped=df_rating.groupby(\"movieId\")\n",
    "count=grouped[\"rating\"].count().reset_index()\n",
    "print(count)"
   ]
  },
  {
   "cell_type": "code",
   "execution_count": 34,
   "id": "57542fe4",
   "metadata": {},
   "outputs": [
    {
     "name": "stdout",
     "output_type": "stream",
     "text": [
      "      movieId  rating\n",
      "0           1     215\n",
      "1           2     110\n",
      "2           3      52\n",
      "5           6     102\n",
      "6           7      54\n",
      "...       ...     ...\n",
      "8287   106782      54\n",
      "8354   109374      52\n",
      "8358   109487      73\n",
      "8457   112852      59\n",
      "8673   122904      54\n",
      "\n",
      "[436 rows x 2 columns]\n"
     ]
    }
   ],
   "source": [
    "print(count[count[\"rating\"]>50])"
   ]
  },
  {
   "cell_type": "markdown",
   "id": "b4542c0d",
   "metadata": {},
   "source": [
    "### 11. What is the total number of ratings in the dataset?"
   ]
  },
  {
   "cell_type": "code",
   "execution_count": 35,
   "id": "8fc42665",
   "metadata": {},
   "outputs": [
    {
     "name": "stdout",
     "output_type": "stream",
     "text": [
      "The toral number of rows in the rating dataset is :  100836\n"
     ]
    }
   ],
   "source": [
    "print(\"The toral number of rows in the rating dataset is : \",df_rating.shape[0])"
   ]
  }
 ],
 "metadata": {
  "kernelspec": {
   "display_name": "Python 3 (ipykernel)",
   "language": "python",
   "name": "python3"
  },
  "language_info": {
   "codemirror_mode": {
    "name": "ipython",
    "version": 3
   },
   "file_extension": ".py",
   "mimetype": "text/x-python",
   "name": "python",
   "nbconvert_exporter": "python",
   "pygments_lexer": "ipython3",
   "version": "3.11.4"
  }
 },
 "nbformat": 4,
 "nbformat_minor": 5
}
