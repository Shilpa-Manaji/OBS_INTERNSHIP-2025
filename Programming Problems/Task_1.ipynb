{
 "cells": [
  {
   "cell_type": "markdown",
   "id": "7f9a3617",
   "metadata": {},
   "source": [
    "### 1. Sum of Digits - The Magical Book"
   ]
  },
  {
   "cell_type": "markdown",
   "id": "98d314c7",
   "metadata": {},
   "source": [
    "Write the Python Program that takes an integer as input and returns the sum of digits."
   ]
  },
  {
   "cell_type": "code",
   "execution_count": 1,
   "id": "2363dc7f",
   "metadata": {},
   "outputs": [
    {
     "name": "stdout",
     "output_type": "stream",
     "text": [
      "enter the Integer: 453201\n",
      "The sum of digits :  15\n"
     ]
    }
   ],
   "source": [
    "def dig(number):\n",
    "    sum=0\n",
    "    for i in range(len(number)):\n",
    "        sum+=int(number[i])\n",
    "    return sum\n",
    "\n",
    "n=input(\"enter the Integer: \")\n",
    "ans=dig(n)\n",
    "print(\"The sum of digits : \",ans)"
   ]
  },
  {
   "cell_type": "markdown",
   "id": "e59dff1e",
   "metadata": {},
   "source": [
    "### 2. Temperature Converter - The Weather Scientist"
   ]
  },
  {
   "cell_type": "markdown",
   "id": "11353a44",
   "metadata": {},
   "source": [
    "Write a Python program that takes temperature input in Celsius or Fahrenheit, detects the\n",
    "unit, and converts it to the other unit."
   ]
  },
  {
   "cell_type": "code",
   "execution_count": 2,
   "id": "55872bf1",
   "metadata": {},
   "outputs": [
    {
     "name": "stdout",
     "output_type": "stream",
     "text": [
      "enter the Temperature in C or F : 100F\n",
      "Converted Temperature: 37.77777777777778C\n"
     ]
    }
   ],
   "source": [
    "def converter(temp):\n",
    "    if \"c\" in temp.lower():\n",
    "        temp=int(temp[:len(temp)-1])\n",
    "        fah=(temp*9/5)+32\n",
    "        return f\"{fah}F\"\n",
    "    elif \"f\" in temp.lower():\n",
    "        temp=int(temp[:len(temp)-1])\n",
    "        cel=(temp-32)*(5/9)\n",
    "        return f\"{cel}C\"\n",
    "    \n",
    "temp=input(\"enter the Temperature in C or F : \")\n",
    "print(\"Converted Temperature:\", converter(temp))"
   ]
  },
  {
   "cell_type": "markdown",
   "id": "91d0dbd8",
   "metadata": {},
   "source": [
    "### 3. Check for Palindrome - The Time Machine Code"
   ]
  },
  {
   "cell_type": "markdown",
   "id": "dd74eff8",
   "metadata": {},
   "source": [
    "Write a Python program that checks whether a given string is a palindrome (reads the same\n",
    "forward and backward)."
   ]
  },
  {
   "cell_type": "code",
   "execution_count": 3,
   "id": "c340e0c5",
   "metadata": {},
   "outputs": [
    {
     "name": "stdout",
     "output_type": "stream",
     "text": [
      "Enter a String : gadag\n",
      "gadag Is a palindrome\n"
     ]
    }
   ],
   "source": [
    "def palindrome(num):\n",
    "    n=num\n",
    "    if num==n[::-1]:\n",
    "        print(n , \"Is a palindrome\")\n",
    "    else:\n",
    "        print(n , \"Is Not a palindrome\")\n",
    "    \n",
    "s=input(\"Enter a String : \")\n",
    "palindrome(s)"
   ]
  },
  {
   "cell_type": "markdown",
   "id": "e3413ece",
   "metadata": {},
   "source": [
    "### 4. Fibonacci Series - The Alien Signal"
   ]
  },
  {
   "cell_type": "markdown",
   "id": "2a096e7c",
   "metadata": {},
   "source": [
    "Write a Python program that generates the Fibonacci sequence up to n terms."
   ]
  },
  {
   "cell_type": "code",
   "execution_count": 4,
   "id": "9fe2d520",
   "metadata": {},
   "outputs": [
    {
     "name": "stdout",
     "output_type": "stream",
     "text": [
      "enter the n terms : 7\n",
      "Fibonacci series is :  [1, 1, 2, 3, 5, 8, 13]\n"
     ]
    }
   ],
   "source": [
    "def fib(n):\n",
    "    if n==0 or n==1:\n",
    "        return 1\n",
    "    else:\n",
    "        return fib(n-1)+fib(n-2)\n",
    "    \n",
    "n=int(input(\"enter the n terms : \"))\n",
    "ans=[]\n",
    "for i in range(n):\n",
    "        ans.append(fib(i))\n",
    "print(\"Fibonacci series is : \",ans)\n",
    "    "
   ]
  },
  {
   "cell_type": "markdown",
   "id": "a50af8b8",
   "metadata": {},
   "source": [
    "### 5. Count Vowels and Consonants - The Cryptic Scroll\n"
   ]
  },
  {
   "cell_type": "markdown",
   "id": "470f0e31",
   "metadata": {},
   "source": [
    "Write a Python program that takes a string input and counts the number of vowels and\n",
    "consonants in it."
   ]
  },
  {
   "cell_type": "code",
   "execution_count": 5,
   "id": "8555141a",
   "metadata": {},
   "outputs": [
    {
     "name": "stdout",
     "output_type": "stream",
     "text": [
      "enter the string : Bangalore\n",
      "the number of vowels in an string is :  4\n",
      "the number of consonants  in an string is :  5\n"
     ]
    }
   ],
   "source": [
    "def count(s):\n",
    "    v=['a','e','i','o','u']\n",
    "    vc=0\n",
    "    cc=0\n",
    "    s=s.lower()\n",
    "    for i in range(len(s)):\n",
    "        if s[i] in v:\n",
    "            vc+=1\n",
    "        else:\n",
    "            cc+=1\n",
    "    return vc,cc\n",
    "\n",
    "s=input(\"enter the string : \")\n",
    "ct=count(s)\n",
    "print(\"the number of vowels in an string is : \" ,ct[0])\n",
    "print(\"the number of consonants  in an string is : \" , ct[1])"
   ]
  },
  {
   "cell_type": "markdown",
   "id": "a2498b91",
   "metadata": {},
   "source": [
    "### 6. Find the Second Largest Number - The Treasure Hunt"
   ]
  },
  {
   "cell_type": "markdown",
   "id": "d869e59a",
   "metadata": {},
   "source": [
    "Write a Python program that finds the second largest number in a list of integers."
   ]
  },
  {
   "cell_type": "code",
   "execution_count": 6,
   "id": "f56fc223",
   "metadata": {},
   "outputs": [
    {
     "name": "stdout",
     "output_type": "stream",
     "text": [
      "enter the n 7\n",
      "enter the element :3\n",
      "enter the element :4\n",
      "enter the element :7\n",
      "enter the element :9\n",
      "enter the element :8\n",
      "enter the element :1\n",
      "enter the element :2\n",
      "the Second largest number in the list is :  8\n"
     ]
    }
   ],
   "source": [
    "def large(a):\n",
    "    for i in range(0,len(a)):\n",
    "        for j in range(len(a)-i-1):\n",
    "            if (a[j]>a[j+1]):\n",
    "                temp=a[j]\n",
    "                a[j]=a[j+1]\n",
    "                a[j+1]=temp\n",
    "    return a\n",
    "\n",
    "n=int(input(\"enter the n \"))\n",
    "l=[]\n",
    "for i in range(n):\n",
    "    l.append(int(input(\"enter the element :\")))\n",
    "ans=large(l)\n",
    "print(\"the Second largest number in the list is : \",ans[-2])"
   ]
  },
  {
   "cell_type": "markdown",
   "id": "90197e51",
   "metadata": {},
   "source": [
    "### 7. Matrix Multiplication - The Quantum Experiment"
   ]
  },
  {
   "cell_type": "markdown",
   "id": "d27e6eeb",
   "metadata": {},
   "source": [
    "Write a Python program that performs matrix multiplication using NumPy.\n"
   ]
  },
  {
   "cell_type": "code",
   "execution_count": 7,
   "id": "361e5c5a",
   "metadata": {},
   "outputs": [
    {
     "name": "stdout",
     "output_type": "stream",
     "text": [
      "[[30 30 30]\n",
      " [54 56 58]]\n"
     ]
    }
   ],
   "source": [
    "import numpy as np\n",
    "a=np.array([[1,2,3],[3,4,5]])\n",
    "b=np.array([[1,2,3],[4,5,6],[7,6,5]])\n",
    "\n",
    "#multiplying a and b matrix using matmul\n",
    "\n",
    "mul=np.matmul(a,b)\n",
    "print(mul) "
   ]
  },
  {
   "cell_type": "markdown",
   "id": "aa7c04c0",
   "metadata": {},
   "source": [
    "### 8. Data Visualization - Election Poll Analysis"
   ]
  },
  {
   "cell_type": "markdown",
   "id": "ce1b1da2",
   "metadata": {},
   "source": [
    "Write a Python program that takes a dictionary of candidate names and vote counts and\n",
    "creates a bar chart using Matplotlib."
   ]
  },
  {
   "cell_type": "code",
   "execution_count": 8,
   "id": "d0d12db5",
   "metadata": {},
   "outputs": [
    {
     "name": "stdout",
     "output_type": "stream",
     "text": [
      "enter the number of Candidate : 5\n",
      "enter the candidate names : Ash\n",
      "enter the vote counts : 70\n",
      "enter the candidate names : Balu\n",
      "enter the vote counts : 80\n",
      "enter the candidate names : Ashwin\n",
      "enter the vote counts : 90\n",
      "enter the candidate names : Gayatri\n",
      "enter the vote counts : 120\n",
      "enter the candidate names : Pallavi\n",
      "enter the vote counts : 201\n",
      "{'Ash': 70, 'Balu': 80, 'Ashwin': 90, 'Gayatri': 120, 'Pallavi': 201}\n"
     ]
    },
    {
     "data": {
      "text/plain": [
       "Text(0, 0.5, 'Candidate Name ')"
      ]
     },
     "execution_count": 8,
     "metadata": {},
     "output_type": "execute_result"
    },
    {
     "data": {
      "image/png": "[encoded data removed]",
      "text/plain": [
       "<Figure size 640x480 with 1 Axes>"
      ]
     },
     "metadata": {},
     "output_type": "display_data"
    }
   ],
   "source": [
    "import matplotlib.pyplot as plt\n",
    "d={}\n",
    "n=int(input(\"enter the number of Candidate : \"))\n",
    "for i in range(n):\n",
    "    key=input(\"enter the candidate names : \")\n",
    "    val=int(input(\"enter the vote counts : \"))\n",
    "    #adding key and value to dictionary\n",
    "    d[key]=val\n",
    "print(d)\n",
    "\n",
    "# plotting bar graph \n",
    "plt.bar(d.keys(),d.values(),color='skyblue')\n",
    "plt.xlabel(\"Number of Votes \")\n",
    "plt.ylabel(\"Candidate Name \")"
   ]
  },
  {
   "cell_type": "markdown",
   "id": "3633cee9",
   "metadata": {},
   "source": [
    "### 9. Data Cleaning and Transformation - The Football Analyst"
   ]
  },
  {
   "cell_type": "markdown",
   "id": "25eff6df",
   "metadata": {},
   "source": [
    "Write a Python program that:"
   ]
  },
  {
   "cell_type": "markdown",
   "id": "9bc6916b",
   "metadata": {},
   "source": [
    "• Converts string numbers to integers where needed."
   ]
  },
  {
   "cell_type": "markdown",
   "id": "80d59f3d",
   "metadata": {},
   "source": [
    "• Replaces missing values with the average score."
   ]
  },
  {
   "cell_type": "markdown",
   "id": "ad9c6926",
   "metadata": {},
   "source": [
    "• Removes duplicate player entries."
   ]
  },
  {
   "cell_type": "markdown",
   "id": "65ff9220",
   "metadata": {},
   "source": [
    "• Sorts players based on performance."
   ]
  },
  {
   "cell_type": "code",
   "execution_count": 9,
   "id": "f1c86268",
   "metadata": {
    "scrolled": true
   },
   "outputs": [
    {
     "name": "stdout",
     "output_type": "stream",
     "text": [
      "  Player Jursey No  Score\n",
      "0   Anil        20    NaN\n",
      "1  Varun        30   30.0\n",
      "2  Tarun        40   90.0\n",
      "3   Sham        50    NaN\n",
      "4  Varun        30   30.0\n",
      "\n",
      "Dataset after Converting\n",
      "  Player  Jursey No  Score\n",
      "0   Anil         20    NaN\n",
      "1  Varun         30   30.0\n",
      "2  Tarun         40   90.0\n",
      "3   Sham         50    NaN\n",
      "4  Varun         30   30.0\n",
      "\n",
      "Player       0\n",
      "Jursey No    0\n",
      "Score        2\n",
      "dtype: int64\n",
      "\n",
      "Dataset after Filling missing values\n",
      "  Player  Jursey No  Score\n",
      "0   Anil         20  150.0\n",
      "1  Varun         30   30.0\n",
      "2  Tarun         40   90.0\n",
      "3   Sham         50  150.0\n",
      "4  Varun         30   30.0\n",
      "\n",
      "Dataset after Removing duplicate values\n",
      "  Player  Jursey No  Score\n",
      "0   Anil         20  150.0\n",
      "1  Varun         30   30.0\n",
      "2  Tarun         40   90.0\n",
      "3   Sham         50  150.0\n",
      "\n",
      "Dataset after sorting\n",
      "  Player  Jursey No  Score\n",
      "0   Anil         20  150.0\n",
      "3   Sham         50  150.0\n",
      "2  Tarun         40   90.0\n",
      "1  Varun         30   30.0\n",
      "\n"
     ]
    }
   ],
   "source": [
    "import pandas as pd\n",
    "import numpy as np\n",
    "\n",
    "#Sample Dataset\n",
    "data={\"Player\":[\"Anil\",\"Varun\",\"Tarun\",\"Sham\",\"Varun\"],\n",
    "       \"Jursey No\":[\"20\",\"30\",\"40\",\"50\",\"30\"],\n",
    "     \"Score\":[np.nan,30,90,np.nan,30]\n",
    "     }\n",
    "df=pd.DataFrame(data)\n",
    "print(df)\n",
    "print()\n",
    "\n",
    "#converting String Numbers to integer\n",
    "df[\"Jursey No\"]=pd.to_numeric(df['Jursey No'])\n",
    "print(\"Dataset after Converting\")\n",
    "print(df)\n",
    "print()\n",
    "\n",
    "print(df.isnull().sum())\n",
    "print()\n",
    "\n",
    "#replacing missing values\n",
    "df[\"Score\"]=df[\"Score\"].fillna(df[\"Score\"].sum())\n",
    "print(\"Dataset after Filling missing values\")\n",
    "print(df)\n",
    "print()\n",
    "\n",
    "# Removing duplicate values\n",
    "df.drop_duplicates(subset=['Player'], keep='first', inplace=True)\n",
    "print(\"Dataset after Removing duplicate values\")\n",
    "print(df)\n",
    "print()\n",
    "\n",
    "# Sort players based on performance (highest Score first)\n",
    "df = df.sort_values(by='Score', ascending=False)\n",
    "print(\"Dataset after sorting\")\n",
    "print(df)\n",
    "print()"
   ]
  },
  {
   "cell_type": "markdown",
   "id": "159a2ca5",
   "metadata": {},
   "source": [
    "### 10. Data Visualization - The Meteorologist’s Report\n"
   ]
  },
  {
   "cell_type": "markdown",
   "id": "02061ed7",
   "metadata": {},
   "source": [
    "Write a Python program that:"
   ]
  },
  {
   "cell_type": "markdown",
   "id": "fcf0d2cf",
   "metadata": {},
   "source": [
    "• Generates 30 random temperature values between 10°C and 40°C."
   ]
  },
  {
   "cell_type": "markdown",
   "id": "132279e9",
   "metadata": {},
   "source": [
    "• Creates a histogram to show the frequency of temperature ranges."
   ]
  },
  {
   "cell_type": "markdown",
   "id": "5ba7ebdf",
   "metadata": {},
   "source": [
    "• Draws a box plot to detect outliers."
   ]
  },
  {
   "cell_type": "code",
   "execution_count": 10,
   "id": "ba4cfcaa",
   "metadata": {},
   "outputs": [
    {
     "name": "stdout",
     "output_type": "stream",
     "text": [
      "[24 14 31 32 18 35 31 22 23 30 25 10 34 11 13 25 17 39 15 21 11 29 15 17\n",
      " 20 19 34 14 13 20]\n"
     ]
    },
    {
     "data": {
      "image/png": "[encoded data removed]",
      "text/plain": [
       "<Figure size 640x480 with 2 Axes>"
      ]
     },
     "metadata": {},
     "output_type": "display_data"
    }
   ],
   "source": [
    "import numpy as np\n",
    "import random\n",
    "import matplotlib.pyplot as plt\n",
    "\n",
    "#Generating 30 random temperature values \n",
    "a=np.random.randint(10,41,30)\n",
    "print(a)\n",
    "\n",
    "#Subplotting\n",
    "fig, axs=plt.subplots(2,1)\n",
    "\n",
    "# Histogram for temperature frequency\n",
    "axs[0].hist(a)\n",
    "axs[0].set_title(\"Histogram to show frequency\",color=\"red\")\n",
    "axs[0].set_xlabel(\"Temperature (°C)\")\n",
    "axs[0].set_ylabel(\"Frequency\")\n",
    "\n",
    "# Box plot to detect outliers\n",
    "axs[1].boxplot(a)\n",
    "axs[1].set_title(\"Boxplot to detect outliers\",color=\"red\")\n",
    "axs[1].set_xlabel(\"Temperature (°C)\")\n",
    "plt.tight_layout()"
   ]
  },
  {
   "cell_type": "code",
   "execution_count": null,
   "id": "73e21283",
   "metadata": {},
   "outputs": [],
   "source": []
  }
 ],
 "metadata": {
  "kernelspec": {
   "display_name": "Python 3 (ipykernel)",
   "language": "python",
   "name": "python3"
  },
  "language_info": {
   "codemirror_mode": {
    "name": "ipython",
    "version": 3
   },
   "file_extension": ".py",
   "mimetype": "text/x-python",
   "name": "python",
   "nbconvert_exporter": "python",
   "pygments_lexer": "ipython3",
   "version": "3.11.4"
  }
 },
 "nbformat": 4,
 "nbformat_minor": 5
}
